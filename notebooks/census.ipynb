{
 "cells": [
  {
   "cell_type": "code",
   "execution_count": 1,
   "id": "673a680b",
   "metadata": {},
   "outputs": [],
   "source": [
    "import os \n",
    "os.chdir(\"..\")"
   ]
  },
  {
   "cell_type": "code",
   "execution_count": 2,
   "id": "a8527574",
   "metadata": {},
   "outputs": [],
   "source": [
    "import polars as pl\n",
    "from src.data.data_pull import DataPull\n",
    "\n",
    "dp = DataPull()"
   ]
  },
  {
   "cell_type": "code",
   "execution_count": 14,
   "id": "c58ff692",
   "metadata": {},
   "outputs": [],
   "source": [
    "params = [\"AGS\", \"PWGTP\"]\n",
    "flow = \"/acs/acs1/pums\"\n",
    "region = \"state:18\""
   ]
  },
  {
   "cell_type": "code",
   "execution_count": 16,
   "id": "b5acc80f",
   "metadata": {},
   "outputs": [],
   "source": [
    "# https://api.census.gov/data/2019/acs/acs1/pums?get=AGS,PWGTP&for=state:*\n",
    "# https://api.census.gov/data/2020/acs/acs1/pums?get=AGS,PWGTP&for=state:*"
   ]
  },
  {
   "cell_type": "code",
   "execution_count": 15,
   "id": "987cfb8a",
   "metadata": {},
   "outputs": [
    {
     "name": "stdout",
     "output_type": "stream",
     "text": [
      "https://api.census.gov/data/2019/acs/acs1/pums?get=AGS,PWGTP&for=state:18\n"
     ]
    },
    {
     "data": {
      "text/html": [
       "<div><style>\n",
       ".dataframe > thead > tr,\n",
       ".dataframe > tbody > tr {\n",
       "  text-align: right;\n",
       "  white-space: pre-wrap;\n",
       "}\n",
       "</style>\n",
       "<small>shape: (67_445, 4)</small><table border=\"1\" class=\"dataframe\"><thead><tr><th>ags</th><th>pwgtp</th><th>state</th><th>year</th></tr><tr><td>str</td><td>str</td><td>str</td><td>i32</td></tr></thead><tbody><tr><td>&quot;0&quot;</td><td>&quot;71&quot;</td><td>&quot;18&quot;</td><td>2019</td></tr><tr><td>&quot;0&quot;</td><td>&quot;24&quot;</td><td>&quot;18&quot;</td><td>2019</td></tr><tr><td>&quot;0&quot;</td><td>&quot;98&quot;</td><td>&quot;18&quot;</td><td>2019</td></tr><tr><td>&quot;0&quot;</td><td>&quot;4&quot;</td><td>&quot;18&quot;</td><td>2019</td></tr><tr><td>&quot;0&quot;</td><td>&quot;13&quot;</td><td>&quot;18&quot;</td><td>2019</td></tr><tr><td>&hellip;</td><td>&hellip;</td><td>&hellip;</td><td>&hellip;</td></tr><tr><td>&quot;0&quot;</td><td>&quot;104&quot;</td><td>&quot;18&quot;</td><td>2019</td></tr><tr><td>&quot;0&quot;</td><td>&quot;15&quot;</td><td>&quot;18&quot;</td><td>2019</td></tr><tr><td>&quot;0&quot;</td><td>&quot;14&quot;</td><td>&quot;18&quot;</td><td>2019</td></tr><tr><td>&quot;0&quot;</td><td>&quot;14&quot;</td><td>&quot;18&quot;</td><td>2019</td></tr><tr><td>&quot;0&quot;</td><td>&quot;17&quot;</td><td>&quot;18&quot;</td><td>2019</td></tr></tbody></table></div>"
      ],
      "text/plain": [
       "shape: (67_445, 4)\n",
       "┌─────┬───────┬───────┬──────┐\n",
       "│ ags ┆ pwgtp ┆ state ┆ year │\n",
       "│ --- ┆ ---   ┆ ---   ┆ ---  │\n",
       "│ str ┆ str   ┆ str   ┆ i32  │\n",
       "╞═════╪═══════╪═══════╪══════╡\n",
       "│ 0   ┆ 71    ┆ 18    ┆ 2019 │\n",
       "│ 0   ┆ 24    ┆ 18    ┆ 2019 │\n",
       "│ 0   ┆ 98    ┆ 18    ┆ 2019 │\n",
       "│ 0   ┆ 4     ┆ 18    ┆ 2019 │\n",
       "│ 0   ┆ 13    ┆ 18    ┆ 2019 │\n",
       "│ …   ┆ …     ┆ …     ┆ …    │\n",
       "│ 0   ┆ 104   ┆ 18    ┆ 2019 │\n",
       "│ 0   ┆ 15    ┆ 18    ┆ 2019 │\n",
       "│ 0   ┆ 14    ┆ 18    ┆ 2019 │\n",
       "│ 0   ┆ 14    ┆ 18    ┆ 2019 │\n",
       "│ 0   ┆ 17    ┆ 18    ┆ 2019 │\n",
       "└─────┴───────┴───────┴──────┘"
      ]
     },
     "execution_count": 15,
     "metadata": {},
     "output_type": "execute_result"
    }
   ],
   "source": [
    "dp.pull_query(region=region, flow=flow, params=params, year=2019)"
   ]
  },
  {
   "cell_type": "code",
   "execution_count": null,
   "id": "6d140ef0",
   "metadata": {},
   "outputs": [],
   "source": [
    "df = dp.pull_dp03(params=params)"
   ]
  },
  {
   "cell_type": "code",
   "execution_count": null,
   "id": "55982cea",
   "metadata": {},
   "outputs": [],
   "source": [
    "dp.conn.sql(\"SHOW TABLES;\").df().get(\"name\").tolist()"
   ]
  },
  {
   "cell_type": "code",
   "execution_count": null,
   "id": "21a41121",
   "metadata": {},
   "outputs": [],
   "source": [
    "dp.conn.sql(\"SELECT * FROM 'DP03Table';\").pl()"
   ]
  }
 ],
 "metadata": {
  "kernelspec": {
   "display_name": ".venv",
   "language": "python",
   "name": "python3"
  },
  "language_info": {
   "codemirror_mode": {
    "name": "ipython",
    "version": 3
   },
   "file_extension": ".py",
   "mimetype": "text/x-python",
   "name": "python",
   "nbconvert_exporter": "python",
   "pygments_lexer": "ipython3",
   "version": "3.12.11"
  }
 },
 "nbformat": 4,
 "nbformat_minor": 5
}
