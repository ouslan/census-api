{
 "cells": [
  {
   "cell_type": "code",
   "execution_count": 1,
   "id": "673a680b",
   "metadata": {},
   "outputs": [],
   "source": [
    "import os \n",
    "os.chdir(\"..\")"
   ]
  },
  {
   "cell_type": "code",
   "execution_count": 2,
   "id": "a8527574",
   "metadata": {},
   "outputs": [],
   "source": [
    "import polars as pl\n",
    "from src.data.data_pull import DataPull\n",
    "\n",
    "dp = DataPull()"
   ]
  },
  {
   "cell_type": "code",
   "execution_count": 3,
   "id": "c58ff692",
   "metadata": {},
   "outputs": [],
   "source": [
    "params = [\"AGS\", \"PWGTP\"]\n",
    "flow = \"/acs/acs1/pums\"\n",
    "region = \"state:18\""
   ]
  },
  {
   "cell_type": "code",
   "execution_count": null,
   "id": "b5acc80f",
   "metadata": {},
   "outputs": [],
   "source": [
    "# https://api.census.gov/data/2019/acs/acs1/pums?get=AGS,PWGTP&for=state:*\n",
    "# https://api.census.gov/data/2020/acs/acs1/pums?get=AGS,PWGTP&for=state:*"
   ]
  },
  {
   "cell_type": "code",
   "execution_count": null,
   "id": "987cfb8a",
   "metadata": {},
   "outputs": [],
   "source": [
    "dp.pull_query(region=region, flow=flow, params=params, year=2019)"
   ]
  },
  {
   "cell_type": "code",
   "execution_count": null,
   "id": "6d140ef0",
   "metadata": {},
   "outputs": [
    {
     "name": "stdout",
     "output_type": "stream",
     "text": [
      "https://api.census.gov/data/2014/acs/acs1/pums?get=AGS,PWGTP&for=state:18\n",
      "https://api.census.gov/data/2015/acs/acs1/pums?get=AGS,PWGTP&for=state:18\n",
      "https://api.census.gov/data/2016/acs/acs1/pums?get=AGS,PWGTP&for=state:18\n",
      "https://api.census.gov/data/2017/acs/acs1/pums?get=AGS,PWGTP&for=state:18\n",
      "https://api.census.gov/data/2018/acs/acs1/pums?get=AGS,PWGTP&for=state:18\n",
      "https://api.census.gov/data/2019/acs/acs1/pums?get=AGS,PWGTP&for=state:18\n",
      "https://api.census.gov/data/2020/acs/acs1/pums?get=AGS,PWGTP&for=state:18\n",
      "https://api.census.gov/data/2021/acs/acs1/pums?get=AGS,PWGTP&for=state:18\n",
      "https://api.census.gov/data/2022/acs/acs1/pums?get=AGS,PWGTP&for=state:18\n",
      "https://api.census.gov/data/2023/acs/acs1/pums?get=AGS,PWGTP&for=state:18\n",
      "https://api.census.gov/data/2024/acs/acs1/pums?get=AGS,PWGTP&for=state:18\n"
     ]
    }
   ],
   "source": [
    "df = dp.pull_dp03(region=region, flow=flow, params=params)\n",
    "df"
   ]
  },
  {
   "cell_type": "code",
   "execution_count": null,
   "id": "2fdf9bee",
   "metadata": {},
   "outputs": [
    {
     "data": {
      "text/html": [
       "<div><style>\n",
       ".dataframe > thead > tr,\n",
       ".dataframe > tbody > tr {\n",
       "  text-align: right;\n",
       "  white-space: pre-wrap;\n",
       "}\n",
       "</style>\n",
       "<small>shape: (609_094, 4)</small><table border=\"1\" class=\"dataframe\"><thead><tr><th>ags</th><th>pwgtp</th><th>state</th><th>year</th></tr><tr><td>str</td><td>str</td><td>str</td><td>i32</td></tr></thead><tbody><tr><td>&quot;0&quot;</td><td>&quot;60&quot;</td><td>&quot;18&quot;</td><td>2014</td></tr><tr><td>&quot;0&quot;</td><td>&quot;95&quot;</td><td>&quot;18&quot;</td><td>2014</td></tr><tr><td>&quot;0&quot;</td><td>&quot;38&quot;</td><td>&quot;18&quot;</td><td>2014</td></tr><tr><td>&quot;0&quot;</td><td>&quot;39&quot;</td><td>&quot;18&quot;</td><td>2014</td></tr><tr><td>&quot;0&quot;</td><td>&quot;129&quot;</td><td>&quot;18&quot;</td><td>2014</td></tr><tr><td>&hellip;</td><td>&hellip;</td><td>&hellip;</td><td>&hellip;</td></tr><tr><td>&quot;0&quot;</td><td>&quot;7&quot;</td><td>&quot;18&quot;</td><td>2023</td></tr><tr><td>&quot;1&quot;</td><td>&quot;738&quot;</td><td>&quot;18&quot;</td><td>2023</td></tr><tr><td>&quot;1&quot;</td><td>&quot;707&quot;</td><td>&quot;18&quot;</td><td>2023</td></tr><tr><td>&quot;0&quot;</td><td>&quot;163&quot;</td><td>&quot;18&quot;</td><td>2023</td></tr><tr><td>&quot;0&quot;</td><td>&quot;141&quot;</td><td>&quot;18&quot;</td><td>2023</td></tr></tbody></table></div>"
      ],
      "text/plain": [
       "shape: (609_094, 4)\n",
       "┌─────┬───────┬───────┬──────┐\n",
       "│ ags ┆ pwgtp ┆ state ┆ year │\n",
       "│ --- ┆ ---   ┆ ---   ┆ ---  │\n",
       "│ str ┆ str   ┆ str   ┆ i32  │\n",
       "╞═════╪═══════╪═══════╪══════╡\n",
       "│ 0   ┆ 60    ┆ 18    ┆ 2014 │\n",
       "│ 0   ┆ 95    ┆ 18    ┆ 2014 │\n",
       "│ 0   ┆ 38    ┆ 18    ┆ 2014 │\n",
       "│ 0   ┆ 39    ┆ 18    ┆ 2014 │\n",
       "│ 0   ┆ 129   ┆ 18    ┆ 2014 │\n",
       "│ …   ┆ …     ┆ …     ┆ …    │\n",
       "│ 0   ┆ 7     ┆ 18    ┆ 2023 │\n",
       "│ 1   ┆ 738   ┆ 18    ┆ 2023 │\n",
       "│ 1   ┆ 707   ┆ 18    ┆ 2023 │\n",
       "│ 0   ┆ 163   ┆ 18    ┆ 2023 │\n",
       "│ 0   ┆ 141   ┆ 18    ┆ 2023 │\n",
       "└─────┴───────┴───────┴──────┘"
      ]
     },
     "execution_count": 5,
     "metadata": {},
     "output_type": "execute_result"
    }
   ],
   "source": [
    "df.write_csv(\"data.csv\")"
   ]
  }
 ],
 "metadata": {
  "kernelspec": {
   "display_name": ".venv",
   "language": "python",
   "name": "python3"
  },
  "language_info": {
   "codemirror_mode": {
    "name": "ipython",
    "version": 3
   },
   "file_extension": ".py",
   "mimetype": "text/x-python",
   "name": "python",
   "nbconvert_exporter": "python",
   "pygments_lexer": "ipython3",
   "version": "3.12.11"
  }
 },
 "nbformat": 4,
 "nbformat_minor": 5
}
